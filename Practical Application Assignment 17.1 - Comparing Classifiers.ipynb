{
 "cells": [
  {
   "cell_type": "code",
   "execution_count": 3,
   "id": "0049f9b1",
   "metadata": {},
   "outputs": [],
   "source": [
    "# Data analysis and manipulation\n",
    "import pandas as pd\n",
    "\n",
    "# Data visualization\n",
    "import matplotlib.pyplot as plt\n",
    "import seaborn as sns\n",
    "\n",
    "# Machine learning models and utilities\n",
    "from sklearn.model_selection import train_test_split\n",
    "from sklearn.preprocessing import StandardScaler\n",
    "from sklearn.neighbors import KNeighborsClassifier\n",
    "from sklearn.linear_model import LogisticRegression\n",
    "from sklearn.tree import DecisionTreeClassifier\n",
    "from sklearn.svm import SVC\n",
    "from sklearn.metrics import accuracy_score, classification_report, confusion_matrix\n",
    "\n",
    "# Load the data into a DataFrame\n",
    "data = pd.read_csv(\"/Users/krista.rime/Downloads/module_17_starter/data/bank-additional-full.csv\", sep=\";\")"
   ]
  },
  {
   "cell_type": "code",
   "execution_count": 4,
   "id": "506e01a6",
   "metadata": {},
   "outputs": [
    {
     "name": "stdout",
     "output_type": "stream",
     "text": [
      "   age        job  marital    education  default housing loan    contact  \\\n",
      "0   56  housemaid  married     basic.4y       no      no   no  telephone   \n",
      "1   57   services  married  high.school  unknown      no   no  telephone   \n",
      "2   37   services  married  high.school       no     yes   no  telephone   \n",
      "3   40     admin.  married     basic.6y       no      no   no  telephone   \n",
      "4   56   services  married  high.school       no      no  yes  telephone   \n",
      "\n",
      "  month day_of_week  ...  campaign  pdays  previous     poutcome emp.var.rate  \\\n",
      "0   may         mon  ...         1    999         0  nonexistent          1.1   \n",
      "1   may         mon  ...         1    999         0  nonexistent          1.1   \n",
      "2   may         mon  ...         1    999         0  nonexistent          1.1   \n",
      "3   may         mon  ...         1    999         0  nonexistent          1.1   \n",
      "4   may         mon  ...         1    999         0  nonexistent          1.1   \n",
      "\n",
      "   cons.price.idx  cons.conf.idx  euribor3m  nr.employed   y  \n",
      "0          93.994          -36.4      4.857       5191.0  no  \n",
      "1          93.994          -36.4      4.857       5191.0  no  \n",
      "2          93.994          -36.4      4.857       5191.0  no  \n",
      "3          93.994          -36.4      4.857       5191.0  no  \n",
      "4          93.994          -36.4      4.857       5191.0  no  \n",
      "\n",
      "[5 rows x 21 columns]\n"
     ]
    }
   ],
   "source": [
    "# Display the first few rows of the DataFrame\n",
    "print(data.head())"
   ]
  },
  {
   "cell_type": "code",
   "execution_count": 5,
   "id": "9051818e",
   "metadata": {},
   "outputs": [
    {
     "name": "stdout",
     "output_type": "stream",
     "text": [
      "age               0\n",
      "job               0\n",
      "marital           0\n",
      "education         0\n",
      "default           0\n",
      "housing           0\n",
      "loan              0\n",
      "contact           0\n",
      "month             0\n",
      "day_of_week       0\n",
      "duration          0\n",
      "campaign          0\n",
      "pdays             0\n",
      "previous          0\n",
      "poutcome          0\n",
      "emp.var.rate      0\n",
      "cons.price.idx    0\n",
      "cons.conf.idx     0\n",
      "euribor3m         0\n",
      "nr.employed       0\n",
      "y                 0\n",
      "dtype: int64\n"
     ]
    }
   ],
   "source": [
    "# Exploratory Data Analysis (EDA)\n",
    "# Check for missing values\n",
    "print(data.isnull().sum())"
   ]
  },
  {
   "cell_type": "code",
   "execution_count": 6,
   "id": "f4cbc66c",
   "metadata": {},
   "outputs": [
    {
     "data": {
      "image/png": "[encoded data removed]",
      "text/plain": [
       "<Figure size 640x480 with 1 Axes>"
      ]
     },
     "metadata": {},
     "output_type": "display_data"
    }
   ],
   "source": [
    "# Check the distribution of the target variable\n",
    "sns.countplot(x='y', data=data)\n",
    "plt.show()"
   ]
  },
  {
   "cell_type": "code",
   "execution_count": 7,
   "id": "0cacf126",
   "metadata": {},
   "outputs": [],
   "source": [
    "# Data preprocessing\n",
    "# Convert categorical variables into numerical using one-hot encoding\n",
    "data = pd.get_dummies(data, drop_first=True)"
   ]
  },
  {
   "cell_type": "code",
   "execution_count": 8,
   "id": "1aabdc21",
   "metadata": {},
   "outputs": [],
   "source": [
    "# Split the data into features (X) and target (y)\n",
    "X = data.drop('y_yes', axis=1)\n",
    "y = data['y_yes']"
   ]
  },
  {
   "cell_type": "code",
   "execution_count": 9,
   "id": "b28abd2e",
   "metadata": {},
   "outputs": [],
   "source": [
    "# Split the data into training and testing sets\n",
    "X_train, X_test, y_train, y_test = train_test_split(X, y, test_size=0.2, random_state=42)"
   ]
  },
  {
   "cell_type": "code",
   "execution_count": 10,
   "id": "46259361",
   "metadata": {},
   "outputs": [],
   "source": [
    "# Feature scaling\n",
    "scaler = StandardScaler()\n",
    "X_train = scaler.fit_transform(X_train)\n",
    "X_test = scaler.transform(X_test)"
   ]
  },
  {
   "cell_type": "code",
   "execution_count": 11,
   "id": "020437ab",
   "metadata": {},
   "outputs": [],
   "source": [
    "# Model training\n",
    "# Initialize classifiers\n",
    "knn_classifier = KNeighborsClassifier()\n",
    "log_reg_classifier = LogisticRegression()\n",
    "dt_classifier = DecisionTreeClassifier()\n",
    "svm_classifier = SVC()"
   ]
  },
  {
   "cell_type": "code",
   "execution_count": 12,
   "id": "d65f479d",
   "metadata": {},
   "outputs": [
    {
     "name": "stderr",
     "output_type": "stream",
     "text": [
      "/Users/krista.rime/anaconda3/lib/python3.11/site-packages/sklearn/linear_model/_logistic.py:460: ConvergenceWarning: lbfgs failed to converge (status=1):\n",
      "STOP: TOTAL NO. of ITERATIONS REACHED LIMIT.\n",
      "\n",
      "Increase the number of iterations (max_iter) or scale the data as shown in:\n",
      "    https://scikit-learn.org/stable/modules/preprocessing.html\n",
      "Please also refer to the documentation for alternative solver options:\n",
      "    https://scikit-learn.org/stable/modules/linear_model.html#logistic-regression\n",
      "  n_iter_i = _check_optimize_result(\n"
     ]
    },
    {
     "data": {
      "text/html": [
       "<style>#sk-container-id-1 {color: black;}#sk-container-id-1 pre{padding: 0;}#sk-container-id-1 div.sk-toggleable {background-color: white;}#sk-container-id-1 label.sk-toggleable__label {cursor: pointer;display: block;width: 100%;margin-bottom: 0;padding: 0.3em;box-sizing: border-box;text-align: center;}#sk-container-id-1 label.sk-toggleable__label-arrow:before {content: \"▸\";float: left;margin-right: 0.25em;color: #696969;}#sk-container-id-1 label.sk-toggleable__label-arrow:hover:before {color: black;}#sk-container-id-1 div.sk-estimator:hover label.sk-toggleable__label-arrow:before {color: black;}#sk-container-id-1 div.sk-toggleable__content {max-height: 0;max-width: 0;overflow: hidden;text-align: left;background-color: #f0f8ff;}#sk-container-id-1 div.sk-toggleable__content pre {margin: 0.2em;color: black;border-radius: 0.25em;background-color: #f0f8ff;}#sk-container-id-1 input.sk-toggleable__control:checked~div.sk-toggleable__content {max-height: 200px;max-width: 100%;overflow: auto;}#sk-container-id-1 input.sk-toggleable__control:checked~label.sk-toggleable__label-arrow:before {content: \"▾\";}#sk-container-id-1 div.sk-estimator input.sk-toggleable__control:checked~label.sk-toggleable__label {background-color: #d4ebff;}#sk-container-id-1 div.sk-label input.sk-toggleable__control:checked~label.sk-toggleable__label {background-color: #d4ebff;}#sk-container-id-1 input.sk-hidden--visually {border: 0;clip: rect(1px 1px 1px 1px);clip: rect(1px, 1px, 1px, 1px);height: 1px;margin: -1px;overflow: hidden;padding: 0;position: absolute;width: 1px;}#sk-container-id-1 div.sk-estimator {font-family: monospace;background-color: #f0f8ff;border: 1px dotted black;border-radius: 0.25em;box-sizing: border-box;margin-bottom: 0.5em;}#sk-container-id-1 div.sk-estimator:hover {background-color: #d4ebff;}#sk-container-id-1 div.sk-parallel-item::after {content: \"\";width: 100%;border-bottom: 1px solid gray;flex-grow: 1;}#sk-container-id-1 div.sk-label:hover label.sk-toggleable__label {background-color: #d4ebff;}#sk-container-id-1 div.sk-serial::before {content: \"\";position: absolute;border-left: 1px solid gray;box-sizing: border-box;top: 0;bottom: 0;left: 50%;z-index: 0;}#sk-container-id-1 div.sk-serial {display: flex;flex-direction: column;align-items: center;background-color: white;padding-right: 0.2em;padding-left: 0.2em;position: relative;}#sk-container-id-1 div.sk-item {position: relative;z-index: 1;}#sk-container-id-1 div.sk-parallel {display: flex;align-items: stretch;justify-content: center;background-color: white;position: relative;}#sk-container-id-1 div.sk-item::before, #sk-container-id-1 div.sk-parallel-item::before {content: \"\";position: absolute;border-left: 1px solid gray;box-sizing: border-box;top: 0;bottom: 0;left: 50%;z-index: -1;}#sk-container-id-1 div.sk-parallel-item {display: flex;flex-direction: column;z-index: 1;position: relative;background-color: white;}#sk-container-id-1 div.sk-parallel-item:first-child::after {align-self: flex-end;width: 50%;}#sk-container-id-1 div.sk-parallel-item:last-child::after {align-self: flex-start;width: 50%;}#sk-container-id-1 div.sk-parallel-item:only-child::after {width: 0;}#sk-container-id-1 div.sk-dashed-wrapped {border: 1px dashed gray;margin: 0 0.4em 0.5em 0.4em;box-sizing: border-box;padding-bottom: 0.4em;background-color: white;}#sk-container-id-1 div.sk-label label {font-family: monospace;font-weight: bold;display: inline-block;line-height: 1.2em;}#sk-container-id-1 div.sk-label-container {text-align: center;}#sk-container-id-1 div.sk-container {/* jupyter's `normalize.less` sets `[hidden] { display: none; }` but bootstrap.min.css set `[hidden] { display: none !important; }` so we also need the `!important` here to be able to override the default hidden behavior on the sphinx rendered scikit-learn.org. See: https://github.com/scikit-learn/scikit-learn/issues/21755 */display: inline-block !important;position: relative;}#sk-container-id-1 div.sk-text-repr-fallback {display: none;}</style><div id=\"sk-container-id-1\" class=\"sk-top-container\"><div class=\"sk-text-repr-fallback\"><pre>SVC()</pre><b>In a Jupyter environment, please rerun this cell to show the HTML representation or trust the notebook. <br />On GitHub, the HTML representation is unable to render, please try loading this page with nbviewer.org.</b></div><div class=\"sk-container\" hidden><div class=\"sk-item\"><div class=\"sk-estimator sk-toggleable\"><input class=\"sk-toggleable__control sk-hidden--visually\" id=\"sk-estimator-id-1\" type=\"checkbox\" checked><label for=\"sk-estimator-id-1\" class=\"sk-toggleable__label sk-toggleable__label-arrow\">SVC</label><div class=\"sk-toggleable__content\"><pre>SVC()</pre></div></div></div></div></div>"
      ],
      "text/plain": [
       "SVC()"
      ]
     },
     "execution_count": 12,
     "metadata": {},
     "output_type": "execute_result"
    }
   ],
   "source": [
    "# Train the models\n",
    "knn_classifier.fit(X_train, y_train)\n",
    "log_reg_classifier.fit(X_train, y_train)\n",
    "dt_classifier.fit(X_train, y_train)\n",
    "svm_classifier.fit(X_train, y_train)"
   ]
  },
  {
   "cell_type": "code",
   "execution_count": 13,
   "id": "dbf4b608",
   "metadata": {},
   "outputs": [],
   "source": [
    "# Model evaluation\n",
    "# Make predictions\n",
    "knn_pred = knn_classifier.predict(X_test)\n",
    "log_reg_pred = log_reg_classifier.predict(X_test)\n",
    "dt_pred = dt_classifier.predict(X_test)\n",
    "svm_pred = svm_classifier.predict(X_test)"
   ]
  },
  {
   "cell_type": "code",
   "execution_count": 14,
   "id": "1c818930",
   "metadata": {},
   "outputs": [
    {
     "name": "stdout",
     "output_type": "stream",
     "text": [
      "KNN Classifier:\n",
      "              precision    recall  f1-score   support\n",
      "\n",
      "       False       0.92      0.97      0.94      7303\n",
      "        True       0.58      0.34      0.43       935\n",
      "\n",
      "    accuracy                           0.90      8238\n",
      "   macro avg       0.75      0.66      0.69      8238\n",
      "weighted avg       0.88      0.90      0.89      8238\n",
      "\n",
      "Logistic Regression Classifier:\n",
      "              precision    recall  f1-score   support\n",
      "\n",
      "       False       0.93      0.97      0.95      7303\n",
      "        True       0.67      0.43      0.53       935\n",
      "\n",
      "    accuracy                           0.91      8238\n",
      "   macro avg       0.80      0.70      0.74      8238\n",
      "weighted avg       0.90      0.91      0.90      8238\n",
      "\n",
      "Decision Tree Classifier:\n",
      "              precision    recall  f1-score   support\n",
      "\n",
      "       False       0.94      0.93      0.94      7303\n",
      "        True       0.49      0.52      0.51       935\n",
      "\n",
      "    accuracy                           0.89      8238\n",
      "   macro avg       0.72      0.72      0.72      8238\n",
      "weighted avg       0.89      0.89      0.89      8238\n",
      "\n",
      "SVM Classifier:\n",
      "              precision    recall  f1-score   support\n",
      "\n",
      "       False       0.93      0.98      0.95      7303\n",
      "        True       0.67      0.39      0.49       935\n",
      "\n",
      "    accuracy                           0.91      8238\n",
      "   macro avg       0.80      0.68      0.72      8238\n",
      "weighted avg       0.90      0.91      0.90      8238\n",
      "\n"
     ]
    }
   ],
   "source": [
    "# Evaluate performance\n",
    "print(\"KNN Classifier:\")\n",
    "print(classification_report(y_test, knn_pred))\n",
    "print(\"Logistic Regression Classifier:\")\n",
    "print(classification_report(y_test, log_reg_pred))\n",
    "print(\"Decision Tree Classifier:\")\n",
    "print(classification_report(y_test, dt_pred))\n",
    "print(\"SVM Classifier:\")\n",
    "print(classification_report(y_test, svm_pred))"
   ]
  },
  {
   "cell_type": "code",
   "execution_count": 15,
   "id": "82560373",
   "metadata": {},
   "outputs": [
    {
     "name": "stdout",
     "output_type": "stream",
     "text": [
      "Accuracy Scores:\n",
      "KNN Classifier: 0.8971837824714737\n",
      "Logistic Regression Classifier: 0.9115076474872542\n",
      "Decision Tree Classifier: 0.8851663025006069\n",
      "SVM Classifier: 0.9083515416363195\n"
     ]
    }
   ],
   "source": [
    "# Additional evaluation metrics\n",
    "print(\"Accuracy Scores:\")\n",
    "print(\"KNN Classifier:\", accuracy_score(y_test, knn_pred))\n",
    "print(\"Logistic Regression Classifier:\", accuracy_score(y_test, log_reg_pred))\n",
    "print(\"Decision Tree Classifier:\", accuracy_score(y_test, dt_pred))\n",
    "print(\"SVM Classifier:\", accuracy_score(y_test, svm_pred))"
   ]
  },
  {
   "cell_type": "code",
   "execution_count": 16,
   "id": "4e4500ca",
   "metadata": {},
   "outputs": [
    {
     "name": "stdout",
     "output_type": "stream",
     "text": [
      "Confusion Matrix for KNN Classifier:\n",
      "[[7069  234]\n",
      " [ 613  322]]\n"
     ]
    }
   ],
   "source": [
    "# Confusion matrix\n",
    "print(\"Confusion Matrix for KNN Classifier:\")\n",
    "print(confusion_matrix(y_test, knn_pred))"
   ]
  },
  {
   "cell_type": "code",
   "execution_count": 17,
   "id": "82bf75a5",
   "metadata": {},
   "outputs": [
    {
     "name": "stdout",
     "output_type": "stream",
     "text": [
      "Feature Importance for Decision Tree Classifier:\n",
      "[0.084191   0.35318841 0.03511949 0.02577234 0.01062217 0.00345761\n",
      " 0.01267248 0.02443081 0.07284985 0.15508752 0.00671658 0.00350335\n",
      " 0.00429834 0.00629147 0.00431697 0.00250689 0.00600268 0.00293791\n",
      " 0.00926513 0.00551726 0.00165903 0.00974737 0.00565336 0.\n",
      " 0.00580888 0.00716809 0.00756457 0.         0.00679214 0.01229994\n",
      " 0.00293364 0.00896282 0.         0.00257458 0.01455237 0.00147439\n",
      " 0.01061094 0.00771652 0.00166193 0.0005706  0.00274426 0.00250768\n",
      " 0.00075583 0.00144646 0.00136332 0.00869651 0.0014696  0.01241435\n",
      " 0.00985615 0.00843889 0.00967275 0.0025353  0.00159947]\n"
     ]
    }
   ],
   "source": [
    "# Feature importance for Decision Tree Classifier\n",
    "print(\"Feature Importance for Decision Tree Classifier:\")\n",
    "print(dt_classifier.feature_importances_)"
   ]
  },
  {
   "cell_type": "markdown",
   "id": "cd9164fe",
   "metadata": {},
   "source": [
    "### Assignment Deliverable\n",
    "\n",
    "#### Business Problem Statement:\n",
    "The goal of this analysis is to predict whether a client will subscribe to a term deposit (binary outcome: yes or no) based on various demographic and marketing campaign-related features. This prediction can aid in optimizing marketing strategies and resource allocation for future campaigns, ultimately improving the bank's efficiency in acquiring term deposits.\n",
    "\n",
    "#### Data Understanding and Preparation:\n",
    "- **Dataset Description**: The dataset contains information about clients, including their age, job, marital status, education, contact method, and details of the marketing campaign they were part of.\n",
    "- **Exploratory Data Analysis (EDA)**: \n",
    "  - Checked for missing values: No missing values were found in the dataset.\n",
    "  - Analyzed the distribution of the target variable ('y') using a count plot, showing a class imbalance.\n",
    "- **Data Preprocessing**:\n",
    "  - Converted categorical variables into numerical using one-hot encoding.\n",
    "  - Split the data into features (X) and target (y).\n",
    "  - Split the data into training and testing sets.\n",
    "  - Applied feature scaling using StandardScaler.\n",
    "\n",
    "#### Modeling:\n",
    "- **Machine Learning Models Used**:\n",
    "  - K-Nearest Neighbors (KNN) Classifier\n",
    "  - Logistic Regression Classifier\n",
    "  - Decision Tree Classifier\n",
    "  - Support Vector Machine (SVM) Classifier\n",
    "- **Model Training**:\n",
    "  - Trained each model using the training data.\n",
    "- **Model Evaluation**:\n",
    "  - Made predictions using the trained models on the testing data.\n",
    "  - Evaluated model performance using classification reports, accuracy scores, and confusion matrices.\n",
    "  \n",
    "#### Interpretation of Descriptive and Inferential Statistics:\n",
    "- Descriptive statistics were utilized to summarize key features and the target variable.\n",
    "- Inferential statistics were not directly applied in this analysis.\n",
    "\n",
    "#### Findings and Insights:\n",
    "- Among the evaluated classifiers, Logistic Regression and SVM achieved the highest accuracy scores, around 91%.\n",
    "- Decision Tree Classifier showed relatively lower accuracy but provided insights into feature importance.\n",
    "- Class imbalance in the target variable might affect model performance and should be addressed through techniques like oversampling or undersampling.\n",
    "\n",
    "#### Next Steps and Recommendations:\n",
    "- Address the class imbalance issue by applying techniques like oversampling (e.g., Synthetic Minority Over-sampling Technique - SMOTE) or undersampling.\n",
    "- Fine-tune hyperparameters of the models to potentially improve performance.\n",
    "- Explore ensemble learning techniques like Random Forest or Gradient Boosting to further enhance predictive accuracy.\n",
    "- Continuously monitor and evaluate model performance with new data and adjust strategies accordingly.\n",
    "\n",
    "#### Conclusion:\n",
    "In conclusion, this analysis demonstrates the application of various machine learning models to predict term deposit subscription based on client features and marketing campaign details. By leveraging these predictive models, the bank can optimize its marketing efforts and resource allocation, ultimately leading to improved efficiency and effectiveness in acquiring term deposits. However, it's essential to address class imbalance and fine-tune models continually to ensure optimal performance and adaptability to changing market dynamics.\n"
   ]
  },
  {
   "cell_type": "code",
   "execution_count": null,
   "id": "dfbd8830",
   "metadata": {},
   "outputs": [],
   "source": []
  }
 ],
 "metadata": {
  "kernelspec": {
   "display_name": "Python 3 (ipykernel)",
   "language": "python",
   "name": "python3"
  },
  "language_info": {
   "codemirror_mode": {
    "name": "ipython",
    "version": 3
   },
   "file_extension": ".py",
   "mimetype": "text/x-python",
   "name": "python",
   "nbconvert_exporter": "python",
   "pygments_lexer": "ipython3",
   "version": "3.11.5"
  }
 },
 "nbformat": 4,
 "nbformat_minor": 5
}
